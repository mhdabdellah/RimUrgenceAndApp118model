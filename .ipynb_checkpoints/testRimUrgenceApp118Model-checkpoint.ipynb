{
 "cells": [
  {
   "cell_type": "code",
   "execution_count": null,
   "id": "ec158fab",
   "metadata": {},
   "outputs": [],
   "source": [
    "import tensorflow as tf\n",
    "import cv2"
   ]
  },
  {
   "cell_type": "code",
   "execution_count": null,
   "id": "11e2a884",
   "metadata": {},
   "outputs": [],
   "source": [
    "selam_model = tf.keras.models.load_model('RimUrgenceAndApp118.h5')"
   ]
  },
  {
   "cell_type": "code",
   "execution_count": null,
   "id": "5679757c",
   "metadata": {},
   "outputs": [],
   "source": [
    "def preprocess(file_path):\n",
    "    \n",
    "    # Read in image from file path\n",
    "#     byte_img = tf.io.read_file(file_path)\n",
    "    # Load in the image \n",
    "#     img = tf.io.decode_jpeg(byte_img)\n",
    "    img_array = cv2.imread(file_path)\n",
    "#     crop_image = img_array[x2: x2 + height, x1: x1 + width]\n",
    "    new_img_array = cv2.resize(img_array, (224, 224))\n",
    "    # Preprocessing steps - resizing the image to be 100x100x3\n",
    "#     img = tf.image.resize(byte_img, (224,224))\n",
    "    \n",
    "    img = new_img_array.reshape(-1, 224, 224, 3)\n",
    "    # Scale image to be between 0 and 1 \n",
    "    img = img / 255.0\n",
    "    \n",
    "    # Return image\n",
    "    return img"
   ]
  },
  {
   "cell_type": "code",
   "execution_count": null,
   "id": "29165b90",
   "metadata": {},
   "outputs": [],
   "source": [
    "img = preprocess('fire_dataset/non_fire_images/non_fire.1.png')"
   ]
  },
  {
   "cell_type": "code",
   "execution_count": null,
   "id": "ab924ddd",
   "metadata": {},
   "outputs": [],
   "source": [
    "img2 = preprocess('fire_dataset/fire_images/fire.3.jpg')"
   ]
  },
  {
   "cell_type": "code",
   "execution_count": null,
   "id": "09331189",
   "metadata": {},
   "outputs": [],
   "source": [
    "img.shape"
   ]
  },
  {
   "cell_type": "code",
   "execution_count": null,
   "id": "997662ed",
   "metadata": {},
   "outputs": [],
   "source": [
    "prediction = selam_model.predict(img)"
   ]
  },
  {
   "cell_type": "code",
   "execution_count": null,
   "id": "7794b26c",
   "metadata": {},
   "outputs": [],
   "source": [
    "prediction"
   ]
  },
  {
   "cell_type": "code",
   "execution_count": null,
   "id": "b6a602c2",
   "metadata": {},
   "outputs": [],
   "source": [
    "import numpy as np"
   ]
  },
  {
   "cell_type": "code",
   "execution_count": null,
   "id": "10f984d1",
   "metadata": {},
   "outputs": [],
   "source": [
    "pred = np.argmax(prediction)"
   ]
  },
  {
   "cell_type": "code",
   "execution_count": null,
   "id": "c1913d1f",
   "metadata": {},
   "outputs": [],
   "source": [
    "pred"
   ]
  },
  {
   "cell_type": "code",
   "execution_count": null,
   "id": "cba9fb1a",
   "metadata": {},
   "outputs": [],
   "source": [
    "if pred == 0:\n",
    "   print(\" is fire\")\n",
    "else:\n",
    "  print(\" is not fire\")"
   ]
  },
  {
   "cell_type": "code",
   "execution_count": null,
   "id": "96fe20c0",
   "metadata": {},
   "outputs": [],
   "source": [
    "# Convert the model to model tensorflewlite\n",
    "converter = tf.lite.TFLiteConverter.from_keras_model(selam_model)\n",
    "tflite_model = converter.convert()\n",
    "# Save the model\n",
    "with open('persondetectionModel.tflite', 'wb') as f:\n",
    "    f.write(tflite_model)"
   ]
  },
  {
   "cell_type": "code",
   "execution_count": null,
   "id": "22b6227a",
   "metadata": {},
   "outputs": [],
   "source": [
    "interpreter = tf.lite.Interpreter(model_path='RimUrgenceAndApp118.tflite')\n",
    "interpreter.allocate_tensors()\n",
    "print(interpreter.get_input_details())\n",
    "print(interpreter.get_output_details())"
   ]
  }
 ],
 "metadata": {
  "kernelspec": {
   "display_name": "Python 3 (ipykernel)",
   "language": "python",
   "name": "python3"
  },
  "language_info": {
   "codemirror_mode": {
    "name": "ipython",
    "version": 3
   },
   "file_extension": ".py",
   "mimetype": "text/x-python",
   "name": "python",
   "nbconvert_exporter": "python",
   "pygments_lexer": "ipython3",
   "version": "3.9.0"
  }
 },
 "nbformat": 4,
 "nbformat_minor": 5
}
