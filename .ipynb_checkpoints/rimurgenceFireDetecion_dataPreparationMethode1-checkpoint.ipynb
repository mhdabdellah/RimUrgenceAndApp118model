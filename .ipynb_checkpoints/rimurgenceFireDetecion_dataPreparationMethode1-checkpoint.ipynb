{
 "cells": [
  {
   "cell_type": "code",
   "execution_count": 5,
   "id": "3be8fd3d",
   "metadata": {},
   "outputs": [],
   "source": [
    "# importing necessary libraries in this IA project\n",
    "#common python libraries\n",
    "# import cv2\n",
    "import os\n",
    "import random\n",
    "import numpy as np\n",
    "from matplotlib import pyplot as plt\n",
    "import pandas as pd \n",
    "from warnings import filters\n",
    "import matplotlib.patches as patches \n",
    "\n",
    "#for reading in images and images manipulation \n",
    "import cv2\n",
    "\n",
    "#for label encoding the target variable \n",
    "from sklearn.preprocessing import LabelEncoder\n",
    "\n",
    "#for tensor based operations\n",
    "from tensorflow.keras.utils import to_categorical, normalize\n",
    "\n",
    "#for machine learning \n",
    "from tensorflow.keras.layers import Flatten,Dense ,Conv2D, MaxPooling2D, Dropout\n",
    "from tensorflow.keras.models import Sequential\n",
    "# from tensorflow.keras.optimazers import Adma\n",
    "from tensorflow.keras.optimizers import Adam\n",
    "# from tensorflow.keras.optimizers import Adma"
   ]
  },
  {
   "cell_type": "code",
   "execution_count": 6,
   "id": "0336effd",
   "metadata": {},
   "outputs": [],
   "source": [
    "import tensorflow as tf"
   ]
  },
  {
   "cell_type": "code",
   "execution_count": 7,
   "id": "f5cfa592",
   "metadata": {},
   "outputs": [],
   "source": [
    "# Setup paths\n",
    "FIRE_PATH = os.path.join('fire_dataset', 'fire_images')\n",
    "NON_FIRE_PATH = os.path.join('fire_dataset', 'non_fire_images')"
   ]
  },
  {
   "cell_type": "code",
   "execution_count": 11,
   "id": "80969652",
   "metadata": {},
   "outputs": [],
   "source": [
    "# fire_images = tf.data.Dataset.list_files(FIRE_PATH+'\\*.png').take(700)\n",
    "fire_images = tf.data.Dataset.list_files(FIRE_PATH+'\\*.png')\n",
    "# non_fire_images = tf.data.Dataset.list_files(NON_FIRE_PATH+'\\*.png').take(200)\n",
    "non_fire_images = tf.data.Dataset.list_files(NON_FIRE_PATH+'\\*.png')"
   ]
  },
  {
   "cell_type": "code",
   "execution_count": 12,
   "id": "c511ab1a",
   "metadata": {},
   "outputs": [
    {
     "data": {
      "text/plain": [
       "755"
      ]
     },
     "execution_count": 12,
     "metadata": {},
     "output_type": "execute_result"
    }
   ],
   "source": [
    "len(fire_images)"
   ]
  },
  {
   "cell_type": "code",
   "execution_count": 13,
   "id": "d0a1af02",
   "metadata": {},
   "outputs": [
    {
     "data": {
      "text/plain": [
       "244"
      ]
     },
     "execution_count": 13,
     "metadata": {},
     "output_type": "execute_result"
    }
   ],
   "source": [
    "len(non_fire_images)"
   ]
  },
  {
   "cell_type": "code",
   "execution_count": 14,
   "id": "b90e7bcd",
   "metadata": {},
   "outputs": [],
   "source": [
    "from pathlib import Path"
   ]
  },
  {
   "cell_type": "code",
   "execution_count": 15,
   "id": "ec38fbda",
   "metadata": {},
   "outputs": [],
   "source": [
    "image_dir = Path(FIRE_PATH)"
   ]
  },
  {
   "cell_type": "code",
   "execution_count": 16,
   "id": "3c39defd",
   "metadata": {},
   "outputs": [
    {
     "name": "stdout",
     "output_type": "stream",
     "text": [
      "0        fire_dataset\\fire_images\\fire.1.png\n",
      "1       fire_dataset\\fire_images\\fire.10.png\n",
      "2      fire_dataset\\fire_images\\fire.100.png\n",
      "3      fire_dataset\\fire_images\\fire.101.png\n",
      "4      fire_dataset\\fire_images\\fire.102.png\n",
      "                       ...                  \n",
      "750     fire_dataset\\fire_images\\fire.95.png\n",
      "751     fire_dataset\\fire_images\\fire.96.png\n",
      "752     fire_dataset\\fire_images\\fire.97.png\n",
      "753     fire_dataset\\fire_images\\fire.98.png\n",
      "754     fire_dataset\\fire_images\\fire.99.png\n",
      "Name: Filepath, Length: 755, dtype: object\n"
     ]
    }
   ],
   "source": [
    "filepaths = pd.Series(list(image_dir.glob(r'*.png')), name='Filepath').astype(str)\n",
    "print(filepaths)"
   ]
  },
  {
   "cell_type": "code",
   "execution_count": 21,
   "id": "26f1733f",
   "metadata": {},
   "outputs": [
    {
     "name": "stdout",
     "output_type": "stream",
     "text": [
      "[0, 0, 0, 0, 0, 0, 0, 0, 0, 0, 0, 0, 0, 0, 0, 0, 0, 0, 0, 0, 0, 0, 0, 0, 0, 0, 0, 0, 0, 0, 0, 0, 0, 0, 0, 0, 0, 0, 0, 0, 0, 0, 0, 0, 0, 0, 0, 0, 0, 0, 0, 0, 0, 0, 0, 0, 0, 0, 0, 0, 0, 0, 0, 0, 0, 0, 0, 0, 0, 0, 0, 0, 0, 0, 0, 0, 0, 0, 0, 0, 0, 0, 0, 0, 0, 0, 0, 0, 0, 0, 0, 0, 0, 0, 0, 0, 0, 0, 0, 0, 0, 0, 0, 0, 0, 0, 0, 0, 0, 0, 0, 0, 0, 0, 0, 0, 0, 0, 0, 0, 0, 0, 0, 0, 0, 0, 0, 0, 0, 0, 0, 0, 0, 0, 0, 0, 0, 0, 0, 0, 0, 0, 0, 0, 0, 0, 0, 0, 0, 0, 0, 0, 0, 0, 0, 0, 0, 0, 0, 0, 0, 0, 0, 0, 0, 0, 0, 0, 0, 0, 0, 0, 0, 0, 0, 0, 0, 0, 0, 0, 0, 0, 0, 0, 0, 0, 0, 0, 0, 0, 0, 0, 0, 0, 0, 0, 0, 0, 0, 0, 0, 0, 0, 0, 0, 0, 0, 0, 0, 0, 0, 0, 0, 0, 0, 0, 0, 0, 0, 0, 0, 0, 0, 0, 0, 0, 0, 0, 0, 0, 0, 0, 0, 0, 0, 0, 0, 0, 0, 0, 0, 0, 0, 0, 0, 0, 0, 0, 0, 0, 0, 0, 0, 0, 0, 0, 0, 0, 0, 0, 0, 0, 0, 0, 0, 0, 0, 0, 0, 0, 0, 0, 0, 0, 0, 0, 0, 0, 0, 0, 0, 0, 0, 0, 0, 0, 0, 0, 0, 0, 0, 0, 0, 0, 0, 0, 0, 0, 0, 0, 0, 0, 0, 0, 0, 0, 0, 0, 0, 0, 0, 0, 0, 0, 0, 0, 0, 0, 0, 0, 0, 0, 0, 0, 0, 0, 0, 0, 0, 0, 0, 0, 0, 0, 0, 0, 0, 0, 0, 0, 0, 0, 0, 0, 0, 0, 0, 0, 0, 0, 0, 0, 0, 0, 0, 0, 0, 0, 0, 0, 0, 0, 0, 0, 0, 0, 0, 0, 0, 0, 0, 0, 0, 0, 0, 0, 0, 0, 0, 0, 0, 0, 0, 0, 0, 0, 0, 0, 0, 0, 0, 0, 0, 0, 0, 0, 0, 0, 0, 0, 0, 0, 0, 0, 0, 0, 0, 0, 0, 0, 0, 0, 0, 0, 0, 0, 0, 0, 0, 0, 0, 0, 0, 0, 0, 0, 0, 0, 0, 0, 0, 0, 0, 0, 0, 0, 0, 0, 0, 0, 0, 0, 0, 0, 0, 0, 0, 0, 0, 0, 0, 0, 0, 0, 0, 0, 0, 0, 0, 0, 0, 0, 0, 0, 0, 0, 0, 0, 0, 0, 0, 0, 0, 0, 0, 0, 0, 0, 0, 0, 0, 0, 0, 0, 0, 0, 0, 0, 0, 0, 0, 0, 0, 0, 0, 0, 0, 0, 0, 0, 0, 0, 0, 0, 0, 0, 0, 0, 0, 0, 0, 0, 0, 0, 0, 0, 0, 0, 0, 0, 0, 0, 0, 0, 0, 0, 0, 0, 0, 0, 0, 0, 0, 0, 0, 0, 0, 0, 0, 0, 0, 0, 0, 0, 0, 0, 0, 0, 0, 0, 0, 0, 0, 0, 0, 0, 0, 0, 0, 0, 0, 0, 0, 0, 0, 0, 0, 0, 0, 0, 0, 0, 0, 0, 0, 0, 0, 0, 0, 0, 0, 0, 0, 0, 0, 0, 0, 0, 0, 0, 0, 0, 0, 0, 0, 0, 0, 0, 0, 0, 0, 0, 0, 0, 0, 0, 0, 0, 0, 0, 0, 0, 0, 0, 0, 0, 0, 0, 0, 0, 0, 0, 0, 0, 0, 0, 0, 0, 0, 0, 0, 0, 0, 0, 0, 0, 0, 0, 0, 0, 0, 0, 0, 0, 0, 0, 0, 0, 0, 0, 0, 0, 0, 0, 0, 0, 0, 0, 0, 0, 0, 0, 0, 0, 0, 0, 0, 0, 0, 0, 0, 0, 0, 0, 0, 0, 0, 0, 0, 0, 0, 0, 0, 0, 0, 0, 0, 0, 0, 0, 0, 0, 0, 0, 0, 0, 0, 0, 0, 0, 0, 0, 0, 0, 0, 0, 0, 0, 0, 0, 0, 0, 0, 0, 0, 0, 0, 0, 0, 0, 0, 0, 0, 0, 0, 0, 0, 0, 0, 0, 0, 0, 0, 0, 0, 0, 0, 0, 0, 0, 0, 0, 0, 0, 0, 0, 0, 0, 0, 0, 0, 0, 0, 0, 0]\n"
     ]
    }
   ],
   "source": [
    "target = []\n",
    "for i in range(len(fire_images)):\n",
    "    target.append(0)\n",
    "print(target)"
   ]
  },
  {
   "cell_type": "code",
   "execution_count": 22,
   "id": "c137befd",
   "metadata": {},
   "outputs": [],
   "source": [
    "targets = pd.DataFrame(target,columns=['target'])"
   ]
  },
  {
   "cell_type": "code",
   "execution_count": 23,
   "id": "94f90223",
   "metadata": {},
   "outputs": [],
   "source": [
    "images = pd.concat([filepaths, targets], axis=1).sample(frac=1.0, random_state=1).reset_index(drop=True)"
   ]
  },
  {
   "cell_type": "code",
   "execution_count": 24,
   "id": "a97c343e",
   "metadata": {},
   "outputs": [
    {
     "data": {
      "text/html": [
       "<div>\n",
       "<style scoped>\n",
       "    .dataframe tbody tr th:only-of-type {\n",
       "        vertical-align: middle;\n",
       "    }\n",
       "\n",
       "    .dataframe tbody tr th {\n",
       "        vertical-align: top;\n",
       "    }\n",
       "\n",
       "    .dataframe thead th {\n",
       "        text-align: right;\n",
       "    }\n",
       "</style>\n",
       "<table border=\"1\" class=\"dataframe\">\n",
       "  <thead>\n",
       "    <tr style=\"text-align: right;\">\n",
       "      <th></th>\n",
       "      <th>Filepath</th>\n",
       "      <th>target</th>\n",
       "    </tr>\n",
       "  </thead>\n",
       "  <tbody>\n",
       "    <tr>\n",
       "      <th>0</th>\n",
       "      <td>fire_dataset\\fire_images\\fire.742.png</td>\n",
       "      <td>0</td>\n",
       "    </tr>\n",
       "    <tr>\n",
       "      <th>1</th>\n",
       "      <td>fire_dataset\\fire_images\\fire.6.png</td>\n",
       "      <td>0</td>\n",
       "    </tr>\n",
       "    <tr>\n",
       "      <th>2</th>\n",
       "      <td>fire_dataset\\fire_images\\fire.671.png</td>\n",
       "      <td>0</td>\n",
       "    </tr>\n",
       "    <tr>\n",
       "      <th>3</th>\n",
       "      <td>fire_dataset\\fire_images\\fire.447.png</td>\n",
       "      <td>0</td>\n",
       "    </tr>\n",
       "    <tr>\n",
       "      <th>4</th>\n",
       "      <td>fire_dataset\\fire_images\\fire.47.png</td>\n",
       "      <td>0</td>\n",
       "    </tr>\n",
       "    <tr>\n",
       "      <th>...</th>\n",
       "      <td>...</td>\n",
       "      <td>...</td>\n",
       "    </tr>\n",
       "    <tr>\n",
       "      <th>750</th>\n",
       "      <td>fire_dataset\\fire_images\\fire.680.png</td>\n",
       "      <td>0</td>\n",
       "    </tr>\n",
       "    <tr>\n",
       "      <th>751</th>\n",
       "      <td>fire_dataset\\fire_images\\fire.743.png</td>\n",
       "      <td>0</td>\n",
       "    </tr>\n",
       "    <tr>\n",
       "      <th>752</th>\n",
       "      <td>fire_dataset\\fire_images\\fire.164.png</td>\n",
       "      <td>0</td>\n",
       "    </tr>\n",
       "    <tr>\n",
       "      <th>753</th>\n",
       "      <td>fire_dataset\\fire_images\\fire.310.png</td>\n",
       "      <td>0</td>\n",
       "    </tr>\n",
       "    <tr>\n",
       "      <th>754</th>\n",
       "      <td>fire_dataset\\fire_images\\fire.132.png</td>\n",
       "      <td>0</td>\n",
       "    </tr>\n",
       "  </tbody>\n",
       "</table>\n",
       "<p>755 rows × 2 columns</p>\n",
       "</div>"
      ],
      "text/plain": [
       "                                  Filepath  target\n",
       "0    fire_dataset\\fire_images\\fire.742.png       0\n",
       "1      fire_dataset\\fire_images\\fire.6.png       0\n",
       "2    fire_dataset\\fire_images\\fire.671.png       0\n",
       "3    fire_dataset\\fire_images\\fire.447.png       0\n",
       "4     fire_dataset\\fire_images\\fire.47.png       0\n",
       "..                                     ...     ...\n",
       "750  fire_dataset\\fire_images\\fire.680.png       0\n",
       "751  fire_dataset\\fire_images\\fire.743.png       0\n",
       "752  fire_dataset\\fire_images\\fire.164.png       0\n",
       "753  fire_dataset\\fire_images\\fire.310.png       0\n",
       "754  fire_dataset\\fire_images\\fire.132.png       0\n",
       "\n",
       "[755 rows x 2 columns]"
      ]
     },
     "execution_count": 24,
     "metadata": {},
     "output_type": "execute_result"
    }
   ],
   "source": [
    "images"
   ]
  },
  {
   "cell_type": "code",
   "execution_count": 25,
   "id": "19d80e2f",
   "metadata": {},
   "outputs": [],
   "source": [
    "image_dir2 = Path(NON_FIRE_PATH)"
   ]
  },
  {
   "cell_type": "code",
   "execution_count": 31,
   "id": "9b809f1c",
   "metadata": {},
   "outputs": [
    {
     "name": "stdout",
     "output_type": "stream",
     "text": [
      "0        fire_dataset\\non_fire_images\\non_fire.1.png\n",
      "1       fire_dataset\\non_fire_images\\non_fire.10.png\n",
      "2      fire_dataset\\non_fire_images\\non_fire.100.png\n",
      "3      fire_dataset\\non_fire_images\\non_fire.101.png\n",
      "4      fire_dataset\\non_fire_images\\non_fire.102.png\n",
      "                           ...                      \n",
      "239     fire_dataset\\non_fire_images\\non_fire.95.png\n",
      "240     fire_dataset\\non_fire_images\\non_fire.96.png\n",
      "241     fire_dataset\\non_fire_images\\non_fire.97.png\n",
      "242     fire_dataset\\non_fire_images\\non_fire.98.png\n",
      "243     fire_dataset\\non_fire_images\\non_fire.99.png\n",
      "Name: Filepath, Length: 244, dtype: object\n"
     ]
    }
   ],
   "source": [
    "filepaths2 = pd.Series(list(image_dir2.glob(r'*.png')), name='Filepath').astype(str)\n",
    "print(filepaths2)"
   ]
  },
  {
   "cell_type": "code",
   "execution_count": 32,
   "id": "e8dc69c4",
   "metadata": {},
   "outputs": [
    {
     "name": "stdout",
     "output_type": "stream",
     "text": [
      "[1, 1, 1, 1, 1, 1, 1, 1, 1, 1, 1, 1, 1, 1, 1, 1, 1, 1, 1, 1, 1, 1, 1, 1, 1, 1, 1, 1, 1, 1, 1, 1, 1, 1, 1, 1, 1, 1, 1, 1, 1, 1, 1, 1, 1, 1, 1, 1, 1, 1, 1, 1, 1, 1, 1, 1, 1, 1, 1, 1, 1, 1, 1, 1, 1, 1, 1, 1, 1, 1, 1, 1, 1, 1, 1, 1, 1, 1, 1, 1, 1, 1, 1, 1, 1, 1, 1, 1, 1, 1, 1, 1, 1, 1, 1, 1, 1, 1, 1, 1, 1, 1, 1, 1, 1, 1, 1, 1, 1, 1, 1, 1, 1, 1, 1, 1, 1, 1, 1, 1, 1, 1, 1, 1, 1, 1, 1, 1, 1, 1, 1, 1, 1, 1, 1, 1, 1, 1, 1, 1, 1, 1, 1, 1, 1, 1, 1, 1, 1, 1, 1, 1, 1, 1, 1, 1, 1, 1, 1, 1, 1, 1, 1, 1, 1, 1, 1, 1, 1, 1, 1, 1, 1, 1, 1, 1, 1, 1, 1, 1, 1, 1, 1, 1, 1, 1, 1, 1, 1, 1, 1, 1, 1, 1, 1, 1, 1, 1, 1, 1, 1, 1, 1, 1, 1, 1, 1, 1, 1, 1, 1, 1, 1, 1, 1, 1, 1, 1, 1, 1, 1, 1, 1, 1, 1, 1, 1, 1, 1, 1, 1, 1, 1, 1, 1, 1, 1, 1, 1, 1, 1, 1, 1, 1]\n"
     ]
    }
   ],
   "source": [
    "target2 = []\n",
    "for i in range(len(non_fire_images)):\n",
    "    target2.append(1)\n",
    "print(target2)"
   ]
  },
  {
   "cell_type": "code",
   "execution_count": 33,
   "id": "244b38bd",
   "metadata": {},
   "outputs": [],
   "source": [
    "targets2 = pd.DataFrame(target2,columns=['target'])"
   ]
  },
  {
   "cell_type": "code",
   "execution_count": 34,
   "id": "c86fe185",
   "metadata": {},
   "outputs": [],
   "source": [
    "images2 = pd.concat([filepaths2, targets2], axis=1).sample(frac=1.0, random_state=1).reset_index(drop=True)"
   ]
  },
  {
   "cell_type": "code",
   "execution_count": 35,
   "id": "e0fafa0c",
   "metadata": {},
   "outputs": [
    {
     "data": {
      "text/html": [
       "<div>\n",
       "<style scoped>\n",
       "    .dataframe tbody tr th:only-of-type {\n",
       "        vertical-align: middle;\n",
       "    }\n",
       "\n",
       "    .dataframe tbody tr th {\n",
       "        vertical-align: top;\n",
       "    }\n",
       "\n",
       "    .dataframe thead th {\n",
       "        text-align: right;\n",
       "    }\n",
       "</style>\n",
       "<table border=\"1\" class=\"dataframe\">\n",
       "  <thead>\n",
       "    <tr style=\"text-align: right;\">\n",
       "      <th></th>\n",
       "      <th>Filepath</th>\n",
       "      <th>target</th>\n",
       "    </tr>\n",
       "  </thead>\n",
       "  <tbody>\n",
       "    <tr>\n",
       "      <th>0</th>\n",
       "      <td>fire_dataset\\non_fire_images\\non_fire.16.png</td>\n",
       "      <td>1</td>\n",
       "    </tr>\n",
       "    <tr>\n",
       "      <th>1</th>\n",
       "      <td>fire_dataset\\non_fire_images\\non_fire.99.png</td>\n",
       "      <td>1</td>\n",
       "    </tr>\n",
       "    <tr>\n",
       "      <th>2</th>\n",
       "      <td>fire_dataset\\non_fire_images\\non_fire.65.png</td>\n",
       "      <td>1</td>\n",
       "    </tr>\n",
       "    <tr>\n",
       "      <th>3</th>\n",
       "      <td>fire_dataset\\non_fire_images\\non_fire.209.png</td>\n",
       "      <td>1</td>\n",
       "    </tr>\n",
       "    <tr>\n",
       "      <th>4</th>\n",
       "      <td>fire_dataset\\non_fire_images\\non_fire.18.png</td>\n",
       "      <td>1</td>\n",
       "    </tr>\n",
       "    <tr>\n",
       "      <th>...</th>\n",
       "      <td>...</td>\n",
       "      <td>...</td>\n",
       "    </tr>\n",
       "    <tr>\n",
       "      <th>239</th>\n",
       "      <td>fire_dataset\\non_fire_images\\non_fire.222.png</td>\n",
       "      <td>1</td>\n",
       "    </tr>\n",
       "    <tr>\n",
       "      <th>240</th>\n",
       "      <td>fire_dataset\\non_fire_images\\non_fire.164.png</td>\n",
       "      <td>1</td>\n",
       "    </tr>\n",
       "    <tr>\n",
       "      <th>241</th>\n",
       "      <td>fire_dataset\\non_fire_images\\non_fire.225.png</td>\n",
       "      <td>1</td>\n",
       "    </tr>\n",
       "    <tr>\n",
       "      <th>242</th>\n",
       "      <td>fire_dataset\\non_fire_images\\non_fire.91.png</td>\n",
       "      <td>1</td>\n",
       "    </tr>\n",
       "    <tr>\n",
       "      <th>243</th>\n",
       "      <td>fire_dataset\\non_fire_images\\non_fire.132.png</td>\n",
       "      <td>1</td>\n",
       "    </tr>\n",
       "  </tbody>\n",
       "</table>\n",
       "<p>244 rows × 2 columns</p>\n",
       "</div>"
      ],
      "text/plain": [
       "                                          Filepath  target\n",
       "0     fire_dataset\\non_fire_images\\non_fire.16.png       1\n",
       "1     fire_dataset\\non_fire_images\\non_fire.99.png       1\n",
       "2     fire_dataset\\non_fire_images\\non_fire.65.png       1\n",
       "3    fire_dataset\\non_fire_images\\non_fire.209.png       1\n",
       "4     fire_dataset\\non_fire_images\\non_fire.18.png       1\n",
       "..                                             ...     ...\n",
       "239  fire_dataset\\non_fire_images\\non_fire.222.png       1\n",
       "240  fire_dataset\\non_fire_images\\non_fire.164.png       1\n",
       "241  fire_dataset\\non_fire_images\\non_fire.225.png       1\n",
       "242   fire_dataset\\non_fire_images\\non_fire.91.png       1\n",
       "243  fire_dataset\\non_fire_images\\non_fire.132.png       1\n",
       "\n",
       "[244 rows x 2 columns]"
      ]
     },
     "execution_count": 35,
     "metadata": {},
     "output_type": "execute_result"
    }
   ],
   "source": [
    "images2"
   ]
  },
  {
   "cell_type": "code",
   "execution_count": 36,
   "id": "2815d3b2",
   "metadata": {},
   "outputs": [],
   "source": [
    "BigDf = pd.concat([images, images2], axis=0)"
   ]
  },
  {
   "cell_type": "code",
   "execution_count": 37,
   "id": "53fb63de",
   "metadata": {},
   "outputs": [
    {
     "data": {
      "text/html": [
       "<div>\n",
       "<style scoped>\n",
       "    .dataframe tbody tr th:only-of-type {\n",
       "        vertical-align: middle;\n",
       "    }\n",
       "\n",
       "    .dataframe tbody tr th {\n",
       "        vertical-align: top;\n",
       "    }\n",
       "\n",
       "    .dataframe thead th {\n",
       "        text-align: right;\n",
       "    }\n",
       "</style>\n",
       "<table border=\"1\" class=\"dataframe\">\n",
       "  <thead>\n",
       "    <tr style=\"text-align: right;\">\n",
       "      <th></th>\n",
       "      <th>Filepath</th>\n",
       "      <th>target</th>\n",
       "    </tr>\n",
       "  </thead>\n",
       "  <tbody>\n",
       "    <tr>\n",
       "      <th>0</th>\n",
       "      <td>fire_dataset\\fire_images\\fire.742.png</td>\n",
       "      <td>0</td>\n",
       "    </tr>\n",
       "    <tr>\n",
       "      <th>1</th>\n",
       "      <td>fire_dataset\\fire_images\\fire.6.png</td>\n",
       "      <td>0</td>\n",
       "    </tr>\n",
       "    <tr>\n",
       "      <th>2</th>\n",
       "      <td>fire_dataset\\fire_images\\fire.671.png</td>\n",
       "      <td>0</td>\n",
       "    </tr>\n",
       "    <tr>\n",
       "      <th>3</th>\n",
       "      <td>fire_dataset\\fire_images\\fire.447.png</td>\n",
       "      <td>0</td>\n",
       "    </tr>\n",
       "    <tr>\n",
       "      <th>4</th>\n",
       "      <td>fire_dataset\\fire_images\\fire.47.png</td>\n",
       "      <td>0</td>\n",
       "    </tr>\n",
       "    <tr>\n",
       "      <th>...</th>\n",
       "      <td>...</td>\n",
       "      <td>...</td>\n",
       "    </tr>\n",
       "    <tr>\n",
       "      <th>239</th>\n",
       "      <td>fire_dataset\\non_fire_images\\non_fire.222.png</td>\n",
       "      <td>1</td>\n",
       "    </tr>\n",
       "    <tr>\n",
       "      <th>240</th>\n",
       "      <td>fire_dataset\\non_fire_images\\non_fire.164.png</td>\n",
       "      <td>1</td>\n",
       "    </tr>\n",
       "    <tr>\n",
       "      <th>241</th>\n",
       "      <td>fire_dataset\\non_fire_images\\non_fire.225.png</td>\n",
       "      <td>1</td>\n",
       "    </tr>\n",
       "    <tr>\n",
       "      <th>242</th>\n",
       "      <td>fire_dataset\\non_fire_images\\non_fire.91.png</td>\n",
       "      <td>1</td>\n",
       "    </tr>\n",
       "    <tr>\n",
       "      <th>243</th>\n",
       "      <td>fire_dataset\\non_fire_images\\non_fire.132.png</td>\n",
       "      <td>1</td>\n",
       "    </tr>\n",
       "  </tbody>\n",
       "</table>\n",
       "<p>999 rows × 2 columns</p>\n",
       "</div>"
      ],
      "text/plain": [
       "                                          Filepath  target\n",
       "0            fire_dataset\\fire_images\\fire.742.png       0\n",
       "1              fire_dataset\\fire_images\\fire.6.png       0\n",
       "2            fire_dataset\\fire_images\\fire.671.png       0\n",
       "3            fire_dataset\\fire_images\\fire.447.png       0\n",
       "4             fire_dataset\\fire_images\\fire.47.png       0\n",
       "..                                             ...     ...\n",
       "239  fire_dataset\\non_fire_images\\non_fire.222.png       1\n",
       "240  fire_dataset\\non_fire_images\\non_fire.164.png       1\n",
       "241  fire_dataset\\non_fire_images\\non_fire.225.png       1\n",
       "242   fire_dataset\\non_fire_images\\non_fire.91.png       1\n",
       "243  fire_dataset\\non_fire_images\\non_fire.132.png       1\n",
       "\n",
       "[999 rows x 2 columns]"
      ]
     },
     "execution_count": 37,
     "metadata": {},
     "output_type": "execute_result"
    }
   ],
   "source": [
    "BigDf"
   ]
  },
  {
   "cell_type": "code",
   "execution_count": 38,
   "id": "87a405fa",
   "metadata": {},
   "outputs": [],
   "source": [
    "BigDf.to_csv('Data_BigDf.csv', sep=\"\\t\", index = False)"
   ]
  },
  {
   "cell_type": "code",
   "execution_count": 39,
   "id": "bf264df2",
   "metadata": {},
   "outputs": [],
   "source": [
    "train_generator = tf.keras.preprocessing.image.ImageDataGenerator(\n",
    "    rescale=1./255,\n",
    "    validation_split=0.2\n",
    ")"
   ]
  },
  {
   "cell_type": "code",
   "execution_count": 40,
   "id": "99aaf307",
   "metadata": {},
   "outputs": [
    {
     "name": "stdout",
     "output_type": "stream",
     "text": [
      "Found 800 validated image filenames.\n",
      "Found 199 validated image filenames.\n"
     ]
    }
   ],
   "source": [
    "train_images = train_generator.flow_from_dataframe(\n",
    "    dataframe=BigDf,\n",
    "    x_col='Filepath',\n",
    "    y_col='target',\n",
    "    target_size=(224, 224),\n",
    "    color_mode='rgb',\n",
    "    class_mode='raw',\n",
    "    batch_size=32,\n",
    "    shuffle=True,\n",
    "    seed=42,\n",
    "    subset='training'\n",
    ")\n",
    "\n",
    "val_images = train_generator.flow_from_dataframe(\n",
    "    dataframe=BigDf,\n",
    "    x_col='Filepath',\n",
    "    y_col='target',\n",
    "    target_size=(224, 224),\n",
    "    color_mode='rgb',\n",
    "    class_mode='raw',\n",
    "    batch_size=32,\n",
    "    shuffle=True,\n",
    "    seed=42,\n",
    "    subset='validation'\n",
    ")"
   ]
  },
  {
   "cell_type": "code",
   "execution_count": 41,
   "id": "9c1dc614",
   "metadata": {},
   "outputs": [],
   "source": [
    "#initializing a sequential keras model\n",
    "model = Sequential()"
   ]
  },
  {
   "cell_type": "code",
   "execution_count": 42,
   "id": "331dd001",
   "metadata": {},
   "outputs": [],
   "source": [
    "#adding a 2D convolution layer\n",
    "model.add(\n",
    "    Conv2D(\n",
    "        filters=100, \n",
    "        kernel_size=(3,3),\n",
    "        use_bias= True,\n",
    "        input_shape=(224,224, 3),\n",
    "        activation= \"relu\",\n",
    "        strides=2,\n",
    "    )\n",
    ")"
   ]
  },
  {
   "cell_type": "code",
   "execution_count": 43,
   "id": "7faa3918",
   "metadata": {},
   "outputs": [],
   "source": [
    "#next creating a 2D MaxPooling layer\n",
    "#adding a max-pooling layer \n",
    "model.add(MaxPooling2D(pool_size=(2,2)))"
   ]
  },
  {
   "cell_type": "code",
   "execution_count": 44,
   "id": "7eca29f4",
   "metadata": {},
   "outputs": [],
   "source": [
    "#adding an other 2D convolution layer - Output Shape = 10 x 10 x 64\n",
    "model.add(Conv2D(filters=64,kernel_size=(3,3),use_bias= True, activation=\"relu\"))\n",
    "#adding a max-pooling layer - Output Shape = 5 x 5 x 64\n",
    "model.add(MaxPooling2D(pool_size=(2,2)))\n"
   ]
  },
  {
   "cell_type": "code",
   "execution_count": 45,
   "id": "aa9d04a6",
   "metadata": {},
   "outputs": [],
   "source": [
    "#flattening the Output from the MaxPooling layer\n",
    "#adding a Flatten layer - Output Shape = 5 x 5 x 64\n",
    "model.add(Flatten())"
   ]
  },
  {
   "cell_type": "code",
   "execution_count": 46,
   "id": "d98cae93",
   "metadata": {},
   "outputs": [],
   "source": [
    "#Passing the flattened array into a fully connected dense layer of 50 neurons\n",
    "#adding a dense layer - Output Shape = 50\n",
    "model.add(Dense(50, activation=\"relu\"))"
   ]
  },
  {
   "cell_type": "code",
   "execution_count": 47,
   "id": "f5d8ed2f",
   "metadata": {},
   "outputs": [],
   "source": [
    "#adding a dropout of 2.0 a final dense layer (output layer) with the activation function as softmax\n",
    "#adding a dropout \n",
    "model.add(Dropout(0.2)) \n",
    "#adding a dense layer with the  softmax activation \n",
    "model.add(Dense(2,activation=\"softmax\"))\n",
    "#we have succefully implemented the model architecture! let us take a look at the model summary"
   ]
  },
  {
   "cell_type": "code",
   "execution_count": 48,
   "id": "dc236be4",
   "metadata": {},
   "outputs": [
    {
     "name": "stdout",
     "output_type": "stream",
     "text": [
      "Model: \"sequential\"\n",
      "_________________________________________________________________\n",
      " Layer (type)                Output Shape              Param #   \n",
      "=================================================================\n",
      " conv2d (Conv2D)             (None, 111, 111, 100)     2800      \n",
      "                                                                 \n",
      " max_pooling2d (MaxPooling2D  (None, 55, 55, 100)      0         \n",
      " )                                                               \n",
      "                                                                 \n",
      " conv2d_1 (Conv2D)           (None, 53, 53, 64)        57664     \n",
      "                                                                 \n",
      " max_pooling2d_1 (MaxPooling  (None, 26, 26, 64)       0         \n",
      " 2D)                                                             \n",
      "                                                                 \n",
      " flatten (Flatten)           (None, 43264)             0         \n",
      "                                                                 \n",
      " dense (Dense)               (None, 50)                2163250   \n",
      "                                                                 \n",
      " dropout (Dropout)           (None, 50)                0         \n",
      "                                                                 \n",
      " dense_1 (Dense)             (None, 2)                 102       \n",
      "                                                                 \n",
      "=================================================================\n",
      "Total params: 2,223,816\n",
      "Trainable params: 2,223,816\n",
      "Non-trainable params: 0\n",
      "_________________________________________________________________\n"
     ]
    }
   ],
   "source": [
    "#Printing the model summary\n",
    "model.summary()"
   ]
  },
  {
   "cell_type": "code",
   "execution_count": 49,
   "id": "9ad458e0",
   "metadata": {},
   "outputs": [],
   "source": [
    "# model.compile(\n",
    "#     optimizer='adam',\n",
    "#     loss='mse'\n",
    "# )"
   ]
  },
  {
   "cell_type": "code",
   "execution_count": 56,
   "id": "b9d141e8",
   "metadata": {},
   "outputs": [],
   "source": [
    "# model.summary()\n",
    "\n",
    "# Compile the model using Adam's default learning rate\n",
    "model.compile(\n",
    "    optimizer=\"Adam\", loss=\"sparse_categorical_crossentropy\", metrics=[\"accuracy\"]\n",
    ")\n",
    "\n",
    "# Add callbacks:\n",
    "# 'EarlyStopping' to stop training when the model is not enhancing anymore\n",
    "# 'ModelCheckPoint' to always keep the model that has the best val_accuracy\n",
    "model_save_filename = \"RimUrgenceAndApp118.h5\"\n",
    "\n",
    "earlystopping_cb = tf.keras.callbacks.EarlyStopping(patience=100, restore_best_weights=True)\n",
    "mdlcheckpoint_cb = tf.keras.callbacks.ModelCheckpoint(\n",
    "    model_save_filename, monitor=\"val_accuracy\", save_best_only=True\n",
    ")"
   ]
  },
  {
   "cell_type": "code",
   "execution_count": null,
   "id": "594794ae",
   "metadata": {},
   "outputs": [],
   "source": []
  },
  {
   "cell_type": "code",
   "execution_count": 57,
   "id": "f4599fc3",
   "metadata": {},
   "outputs": [
    {
     "name": "stdout",
     "output_type": "stream",
     "text": [
      "Epoch 1/100\n",
      "25/25 [==============================] - 37s 1s/step - loss: 0.2789 - accuracy: 0.9087 - val_loss: 0.1305 - val_accuracy: 0.9397\n",
      "Epoch 2/100\n",
      "25/25 [==============================] - 35s 1s/step - loss: 0.1458 - accuracy: 0.9463 - val_loss: 0.5318 - val_accuracy: 0.8191\n",
      "Epoch 3/100\n",
      "25/25 [==============================] - 35s 1s/step - loss: 0.1482 - accuracy: 0.9513 - val_loss: 0.0320 - val_accuracy: 0.9950\n",
      "Epoch 4/100\n",
      "25/25 [==============================] - 35s 1s/step - loss: 0.1338 - accuracy: 0.9538 - val_loss: 0.0867 - val_accuracy: 0.9548\n",
      "Epoch 5/100\n",
      "25/25 [==============================] - 35s 1s/step - loss: 0.1972 - accuracy: 0.9300 - val_loss: 0.1580 - val_accuracy: 0.9598\n",
      "Epoch 6/100\n",
      "25/25 [==============================] - 35s 1s/step - loss: 0.1391 - accuracy: 0.9588 - val_loss: 0.0701 - val_accuracy: 0.9648\n",
      "Epoch 7/100\n",
      "25/25 [==============================] - 35s 1s/step - loss: 0.0877 - accuracy: 0.9725 - val_loss: 0.0819 - val_accuracy: 0.9698\n",
      "Epoch 8/100\n",
      "25/25 [==============================] - 37s 1s/step - loss: 0.0798 - accuracy: 0.9737 - val_loss: 0.0861 - val_accuracy: 0.9698\n",
      "Epoch 9/100\n",
      "25/25 [==============================] - 35s 1s/step - loss: 0.0716 - accuracy: 0.9775 - val_loss: 0.0548 - val_accuracy: 0.9849\n",
      "Epoch 10/100\n",
      "25/25 [==============================] - 36s 1s/step - loss: 0.0717 - accuracy: 0.9725 - val_loss: 0.0739 - val_accuracy: 0.9648\n",
      "Epoch 11/100\n",
      "25/25 [==============================] - 37s 1s/step - loss: 0.0494 - accuracy: 0.9800 - val_loss: 0.0258 - val_accuracy: 0.9950\n",
      "Epoch 12/100\n",
      "25/25 [==============================] - 35s 1s/step - loss: 0.0502 - accuracy: 0.9837 - val_loss: 0.1555 - val_accuracy: 0.9397\n",
      "Epoch 13/100\n",
      "25/25 [==============================] - 35s 1s/step - loss: 0.0674 - accuracy: 0.9787 - val_loss: 0.0966 - val_accuracy: 0.9548\n",
      "Epoch 14/100\n",
      "25/25 [==============================] - 36s 1s/step - loss: 0.0350 - accuracy: 0.9875 - val_loss: 0.0058 - val_accuracy: 1.0000\n",
      "Epoch 15/100\n",
      "25/25 [==============================] - 36s 1s/step - loss: 0.0649 - accuracy: 0.9737 - val_loss: 0.0287 - val_accuracy: 0.9849\n",
      "Epoch 16/100\n",
      "25/25 [==============================] - 35s 1s/step - loss: 0.0288 - accuracy: 0.9900 - val_loss: 0.0673 - val_accuracy: 0.9799\n",
      "Epoch 17/100\n",
      "25/25 [==============================] - 35s 1s/step - loss: 0.0318 - accuracy: 0.9912 - val_loss: 0.0108 - val_accuracy: 0.9950\n",
      "Epoch 18/100\n",
      "25/25 [==============================] - 35s 1s/step - loss: 0.0219 - accuracy: 0.9950 - val_loss: 0.1494 - val_accuracy: 0.9648\n",
      "Epoch 19/100\n",
      "25/25 [==============================] - 35s 1s/step - loss: 0.0335 - accuracy: 0.9887 - val_loss: 0.1023 - val_accuracy: 0.9598\n",
      "Epoch 20/100\n",
      "25/25 [==============================] - 35s 1s/step - loss: 0.0638 - accuracy: 0.9812 - val_loss: 0.2686 - val_accuracy: 0.9146\n",
      "Epoch 21/100\n",
      "25/25 [==============================] - 35s 1s/step - loss: 0.0275 - accuracy: 0.9862 - val_loss: 0.0227 - val_accuracy: 0.9950\n",
      "Epoch 22/100\n",
      "25/25 [==============================] - 35s 1s/step - loss: 0.0324 - accuracy: 0.9887 - val_loss: 0.1203 - val_accuracy: 0.9749\n",
      "Epoch 23/100\n",
      "25/25 [==============================] - 35s 1s/step - loss: 0.0054 - accuracy: 1.0000 - val_loss: 0.1191 - val_accuracy: 0.9849\n",
      "Epoch 24/100\n",
      "25/25 [==============================] - 35s 1s/step - loss: 0.0029 - accuracy: 1.0000 - val_loss: 0.1012 - val_accuracy: 0.9849\n",
      "Epoch 25/100\n",
      "25/25 [==============================] - 35s 1s/step - loss: 0.0060 - accuracy: 0.9975 - val_loss: 0.0870 - val_accuracy: 0.9799\n",
      "Epoch 26/100\n",
      "25/25 [==============================] - 39s 2s/step - loss: 0.0040 - accuracy: 0.9987 - val_loss: 0.2193 - val_accuracy: 0.9598\n",
      "Epoch 27/100\n",
      "25/25 [==============================] - 43s 2s/step - loss: 0.0024 - accuracy: 1.0000 - val_loss: 0.1252 - val_accuracy: 0.9799\n",
      "Epoch 28/100\n",
      "25/25 [==============================] - 40s 2s/step - loss: 0.0021 - accuracy: 1.0000 - val_loss: 0.1390 - val_accuracy: 0.9749\n",
      "Epoch 29/100\n",
      "25/25 [==============================] - 42s 2s/step - loss: 8.4897e-04 - accuracy: 1.0000 - val_loss: 0.2108 - val_accuracy: 0.9598\n",
      "Epoch 30/100\n",
      "25/25 [==============================] - 38s 2s/step - loss: 3.4706e-04 - accuracy: 1.0000 - val_loss: 0.1683 - val_accuracy: 0.9698\n",
      "Epoch 31/100\n",
      "25/25 [==============================] - 35s 1s/step - loss: 5.2074e-04 - accuracy: 1.0000 - val_loss: 0.2139 - val_accuracy: 0.9648\n",
      "Epoch 32/100\n",
      "25/25 [==============================] - 36s 1s/step - loss: 2.7991e-04 - accuracy: 1.0000 - val_loss: 0.1825 - val_accuracy: 0.9698\n",
      "Epoch 33/100\n",
      "25/25 [==============================] - 36s 1s/step - loss: 6.6524e-04 - accuracy: 1.0000 - val_loss: 0.1054 - val_accuracy: 0.9799\n",
      "Epoch 34/100\n",
      "25/25 [==============================] - 37s 1s/step - loss: 2.8489e-04 - accuracy: 1.0000 - val_loss: 0.2359 - val_accuracy: 0.9598\n",
      "Epoch 35/100\n",
      "25/25 [==============================] - 39s 2s/step - loss: 2.4104e-04 - accuracy: 1.0000 - val_loss: 0.1949 - val_accuracy: 0.9749\n",
      "Epoch 36/100\n",
      "25/25 [==============================] - 36s 1s/step - loss: 2.1946e-04 - accuracy: 1.0000 - val_loss: 0.2039 - val_accuracy: 0.9749\n",
      "Epoch 37/100\n",
      "25/25 [==============================] - 36s 1s/step - loss: 1.1357e-04 - accuracy: 1.0000 - val_loss: 0.2291 - val_accuracy: 0.9698\n",
      "Epoch 38/100\n",
      "25/25 [==============================] - 37s 1s/step - loss: 2.8176e-04 - accuracy: 1.0000 - val_loss: 0.2146 - val_accuracy: 0.9749\n",
      "Epoch 39/100\n",
      "25/25 [==============================] - 35s 1s/step - loss: 1.2428e-04 - accuracy: 1.0000 - val_loss: 0.2122 - val_accuracy: 0.9749\n",
      "Epoch 40/100\n",
      "25/25 [==============================] - 36s 1s/step - loss: 1.1045e-04 - accuracy: 1.0000 - val_loss: 0.2126 - val_accuracy: 0.9749\n",
      "Epoch 41/100\n",
      "25/25 [==============================] - 35s 1s/step - loss: 1.5554e-04 - accuracy: 1.0000 - val_loss: 0.2187 - val_accuracy: 0.9749\n",
      "Epoch 42/100\n",
      "25/25 [==============================] - 35s 1s/step - loss: 5.4278e-05 - accuracy: 1.0000 - val_loss: 0.2438 - val_accuracy: 0.9698\n",
      "Epoch 43/100\n",
      "25/25 [==============================] - 36s 1s/step - loss: 1.6956e-04 - accuracy: 1.0000 - val_loss: 0.2011 - val_accuracy: 0.9749\n",
      "Epoch 44/100\n",
      "25/25 [==============================] - 36s 1s/step - loss: 1.5465e-04 - accuracy: 1.0000 - val_loss: 0.2724 - val_accuracy: 0.9648\n",
      "Epoch 45/100\n",
      "25/25 [==============================] - 36s 1s/step - loss: 8.8809e-05 - accuracy: 1.0000 - val_loss: 0.2570 - val_accuracy: 0.9698\n",
      "Epoch 46/100\n",
      "25/25 [==============================] - 40s 2s/step - loss: 4.7534e-05 - accuracy: 1.0000 - val_loss: 0.2331 - val_accuracy: 0.9698\n",
      "Epoch 47/100\n",
      "25/25 [==============================] - 38s 2s/step - loss: 9.5908e-05 - accuracy: 1.0000 - val_loss: 0.2369 - val_accuracy: 0.9698\n",
      "Epoch 48/100\n",
      "25/25 [==============================] - 36s 1s/step - loss: 1.0884e-04 - accuracy: 1.0000 - val_loss: 0.2197 - val_accuracy: 0.9698\n",
      "Epoch 49/100\n",
      "25/25 [==============================] - 36s 1s/step - loss: 5.7733e-04 - accuracy: 1.0000 - val_loss: 0.2063 - val_accuracy: 0.9698\n",
      "Epoch 50/100\n",
      "25/25 [==============================] - 36s 1s/step - loss: 2.9966e-04 - accuracy: 1.0000 - val_loss: 0.2105 - val_accuracy: 0.9698\n",
      "Epoch 51/100\n",
      "25/25 [==============================] - 35s 1s/step - loss: 8.4116e-05 - accuracy: 1.0000 - val_loss: 0.2274 - val_accuracy: 0.9698\n",
      "Epoch 52/100\n",
      "25/25 [==============================] - 36s 1s/step - loss: 0.0106 - accuracy: 0.9962 - val_loss: 0.0331 - val_accuracy: 0.9950\n",
      "Epoch 53/100\n",
      "25/25 [==============================] - 36s 1s/step - loss: 0.0696 - accuracy: 0.9800 - val_loss: 0.1659 - val_accuracy: 0.9447\n",
      "Epoch 54/100\n",
      "25/25 [==============================] - 35s 1s/step - loss: 0.0206 - accuracy: 0.9912 - val_loss: 0.0876 - val_accuracy: 0.9698\n",
      "Epoch 55/100\n",
      "25/25 [==============================] - 35s 1s/step - loss: 0.0283 - accuracy: 0.9925 - val_loss: 0.2439 - val_accuracy: 0.9347\n",
      "Epoch 56/100\n",
      "25/25 [==============================] - 35s 1s/step - loss: 0.0198 - accuracy: 0.9912 - val_loss: 0.0926 - val_accuracy: 0.9598\n",
      "Epoch 57/100\n",
      "25/25 [==============================] - 36s 1s/step - loss: 0.0057 - accuracy: 0.9987 - val_loss: 0.1725 - val_accuracy: 0.9497\n",
      "Epoch 58/100\n"
     ]
    },
    {
     "name": "stdout",
     "output_type": "stream",
     "text": [
      "25/25 [==============================] - 36s 1s/step - loss: 0.0024 - accuracy: 0.9987 - val_loss: 0.2608 - val_accuracy: 0.9497\n",
      "Epoch 59/100\n",
      "25/25 [==============================] - 35s 1s/step - loss: 0.0205 - accuracy: 0.9912 - val_loss: 0.2121 - val_accuracy: 0.9497\n",
      "Epoch 60/100\n",
      "25/25 [==============================] - 37s 1s/step - loss: 0.0139 - accuracy: 0.9987 - val_loss: 0.0726 - val_accuracy: 0.9799\n",
      "Epoch 61/100\n",
      "25/25 [==============================] - 35s 1s/step - loss: 0.0089 - accuracy: 0.9962 - val_loss: 0.0682 - val_accuracy: 0.9749\n",
      "Epoch 62/100\n",
      "25/25 [==============================] - 36s 1s/step - loss: 0.0038 - accuracy: 1.0000 - val_loss: 0.2201 - val_accuracy: 0.9548\n",
      "Epoch 63/100\n",
      "25/25 [==============================] - 35s 1s/step - loss: 4.6890e-04 - accuracy: 1.0000 - val_loss: 0.1144 - val_accuracy: 0.9799\n",
      "Epoch 64/100\n",
      "25/25 [==============================] - 35s 1s/step - loss: 1.6186e-04 - accuracy: 1.0000 - val_loss: 0.1441 - val_accuracy: 0.9648\n",
      "Epoch 65/100\n",
      "25/25 [==============================] - 37s 1s/step - loss: 2.3852e-04 - accuracy: 1.0000 - val_loss: 0.2020 - val_accuracy: 0.9598\n",
      "Epoch 66/100\n",
      "25/25 [==============================] - 35s 1s/step - loss: 2.2511e-04 - accuracy: 1.0000 - val_loss: 0.2823 - val_accuracy: 0.9497\n",
      "Epoch 67/100\n",
      "25/25 [==============================] - 36s 1s/step - loss: 2.0605e-04 - accuracy: 1.0000 - val_loss: 0.2831 - val_accuracy: 0.9497\n",
      "Epoch 68/100\n",
      "25/25 [==============================] - 37s 1s/step - loss: 2.6294e-04 - accuracy: 1.0000 - val_loss: 0.1042 - val_accuracy: 0.9899\n",
      "Epoch 69/100\n",
      "25/25 [==============================] - 35s 1s/step - loss: 2.3973e-04 - accuracy: 1.0000 - val_loss: 0.3369 - val_accuracy: 0.9497\n",
      "Epoch 70/100\n",
      "25/25 [==============================] - 35s 1s/step - loss: 1.3913e-04 - accuracy: 1.0000 - val_loss: 0.3088 - val_accuracy: 0.9548\n",
      "Epoch 71/100\n",
      "25/25 [==============================] - 35s 1s/step - loss: 3.8026e-04 - accuracy: 1.0000 - val_loss: 0.2991 - val_accuracy: 0.9497\n",
      "Epoch 72/100\n",
      "25/25 [==============================] - 35s 1s/step - loss: 1.3673e-04 - accuracy: 1.0000 - val_loss: 0.2662 - val_accuracy: 0.9497\n",
      "Epoch 73/100\n",
      "25/25 [==============================] - 35s 1s/step - loss: 2.9383e-04 - accuracy: 1.0000 - val_loss: 0.3593 - val_accuracy: 0.9497\n",
      "Epoch 74/100\n",
      "25/25 [==============================] - 36s 1s/step - loss: 1.2561e-04 - accuracy: 1.0000 - val_loss: 0.2646 - val_accuracy: 0.9497\n"
     ]
    }
   ],
   "source": [
    "# Training\n",
    "history = model.fit(\n",
    "    train_images,\n",
    "    epochs=100,\n",
    "    validation_data=val_images,\n",
    "    callbacks=[earlystopping_cb, mdlcheckpoint_cb],\n",
    ")"
   ]
  },
  {
   "cell_type": "code",
   "execution_count": 52,
   "id": "c9575912",
   "metadata": {},
   "outputs": [
    {
     "name": "stdout",
     "output_type": "stream",
     "text": [
      "Epoch 1/100\n",
      "25/25 [==============================] - 42s 2s/step - loss: 0.2500 - val_loss: 0.2500\n",
      "Epoch 2/100\n",
      "25/25 [==============================] - 41s 2s/step - loss: 0.2500 - val_loss: 0.2500\n",
      "Epoch 3/100\n",
      "25/25 [==============================] - 40s 2s/step - loss: 0.2500 - val_loss: 0.2500\n",
      "Epoch 4/100\n",
      "25/25 [==============================] - 43s 2s/step - loss: 0.2500 - val_loss: 0.2500\n",
      "Epoch 5/100\n",
      "25/25 [==============================] - 41s 2s/step - loss: 0.2500 - val_loss: 0.2500\n",
      "Epoch 6/100\n",
      "25/25 [==============================] - 40s 2s/step - loss: 0.2500 - val_loss: 0.2500\n"
     ]
    }
   ],
   "source": [
    "# history = model.fit(\n",
    "#     train_images,\n",
    "#     validation_data=val_images,\n",
    "#     epochs=100,\n",
    "#     callbacks=[\n",
    "#         tf.keras.callbacks.EarlyStopping(\n",
    "#             monitor='val_loss',\n",
    "#             patience=5,\n",
    "#             restore_best_weights=True\n",
    "#         )\n",
    "#     ]\n",
    "# )"
   ]
  },
  {
   "cell_type": "code",
   "execution_count": 51,
   "id": "62a484f8",
   "metadata": {},
   "outputs": [
    {
     "name": "stdout",
     "output_type": "stream",
     "text": [
      "Saved model to disk\n"
     ]
    }
   ],
   "source": [
    "model.save(\"RimUrgenceAndApp118.h5\")\n",
    "print(\"Saved model to disk\")"
   ]
  }
 ],
 "metadata": {
  "kernelspec": {
   "display_name": "Python 3 (ipykernel)",
   "language": "python",
   "name": "python3"
  },
  "language_info": {
   "codemirror_mode": {
    "name": "ipython",
    "version": 3
   },
   "file_extension": ".py",
   "mimetype": "text/x-python",
   "name": "python",
   "nbconvert_exporter": "python",
   "pygments_lexer": "ipython3",
   "version": "3.9.0"
  }
 },
 "nbformat": 4,
 "nbformat_minor": 5
}
